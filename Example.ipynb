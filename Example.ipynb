{
 "cells": [
  {
   "cell_type": "markdown",
   "metadata": {},
   "source": [
    "# How to use the generator\n",
    "\n",
    "This notebook shows how to use the library to generate sparse stochastic processes.\n",
    "\n",
    "\n",
    "\n",
    "\n",
    "First `import` the necessary files :"
   ]
  },
  {
   "cell_type": "code",
   "execution_count": 1,
   "metadata": {},
   "outputs": [],
   "source": [
    "from lib.lspline import L_spline\n",
    "from lib.loperator import Operator\n",
    "from lib.white_noise import white_noise"
   ]
  },
  {
   "cell_type": "markdown",
   "metadata": {},
   "source": [
    "## Setting the white noise\n",
    "\n",
    "\n",
    "In the library, there is the possiblity to choose among the four following white noise processes :\n",
    "<ul>\n",
    "    <li> Gaussian </li>\n",
    "    <li> Alpha-Stable </li>\n",
    "    <li> Laplace </li>\n",
    "    <li> Gamma </li>\n",
    "</ul>\n",
    " \n",
    "\n",
    "The following block of code shows how to contruct all four types of white noise."
   ]
  },
  {
   "cell_type": "code",
   "execution_count": 22,
   "metadata": {},
   "outputs": [],
   "source": [
    "w_gauss = white_noise('gaussian', params=(0,1))\n",
    "w_alpha_stable = white_noise('alpha_stable', params=(1, 0, 0, 1))\n",
    "w_laplace = white_noise('laplace', params=(0,1))\n",
    "w_gamma = white_noise('gamma', params=(1, 1))"
   ]
  },
  {
   "cell_type": "markdown",
   "metadata": {},
   "source": [
    "The parametrization of the laws follows the one provided on the Wikipedia page of each law."
   ]
  },
  {
   "cell_type": "markdown",
   "metadata": {},
   "source": [
    "# Defining the operator\n",
    "\n",
    "The framework allows for rational operators of the form\n",
    "$$\n",
    "P(\\mathrm{D})Q(\\mathrm{D})^{-1}\n",
    "$$\n",
    "The polynomials $P$ and $Q$ are defined through the list of their coefficients :\n",
    "* $P(\\mathrm{D}) = p_0 \\mathrm{D}^n + p_1 \\mathrm{D}^{n-1} + ... + p_n$ is represented as  ``` P = [p_0, ..., p_n ]```\n",
    "* $Q(\\mathrm{D}) = q_0 \\mathrm{D}^m + q_1 \\mathrm{D}^{m-1} + ... + q_m$ is represented as  ``` Q = [q_0, ..., q_m ]```\n",
    "\n",
    "\n",
    "Defining the operator consists of providing both lists `P` and `Q`. For example to define the operator\n",
    "$$\n",
    "\\mathrm{L} = P(\\mathrm{D})Q(\\mathrm{D})^{-1} \\text{ with } P(\\mathrm{D}) = {\\mathrm{D}^2 + 4\\mathrm{Id}} \\quad \\text{ and } Q(\\mathrm{D}) = \\mathrm{D},\n",
    "$$\n",
    "write :"
   ]
  },
  {
   "cell_type": "code",
   "execution_count": 3,
   "metadata": {},
   "outputs": [],
   "source": [
    "L = Operator(P = [1, 0, 4], Q = [1, 0])"
   ]
  },
  {
   "cell_type": "markdown",
   "metadata": {},
   "source": [
    "## Defining the sparse stochastic process solving $\\mathrm{L} s = w$\n",
    "\n",
    "\n",
    "Here is how to define $s$ for the different types of innovations defined previously :"
   ]
  },
  {
   "cell_type": "code",
   "execution_count": 4,
   "metadata": {},
   "outputs": [],
   "source": [
    "s_gauss = L_spline(L, w_gauss)\n",
    "s_alpha_stable = L_spline(L, w_alpha_stable)\n",
    "s_laplace = L_spline(L, w_laplace)\n",
    "s_gamma = L_spline(L, w_gamma)"
   ]
  },
  {
   "cell_type": "markdown",
   "metadata": {},
   "source": [
    "#### Setting the approximation quality with $n$:\n",
    "\n",
    "The compound Poisson Approximation is chosen to have the rate $\\lambda = n$. \n",
    "\n",
    "Set it as follows :"
   ]
  },
  {
   "cell_type": "code",
   "execution_count": 5,
   "metadata": {},
   "outputs": [],
   "source": [
    "s_gauss.set_lambda(100)"
   ]
  },
  {
   "cell_type": "markdown",
   "metadata": {},
   "source": [
    "#### Sampling and evaluating the process :\n",
    "\n",
    "Pick an interval $[0, T]$ on which to sample the process and sample it as follows :"
   ]
  },
  {
   "cell_type": "code",
   "execution_count": 6,
   "metadata": {},
   "outputs": [],
   "source": [
    "s_gauss.sample(T=10)"
   ]
  },
  {
   "cell_type": "markdown",
   "metadata": {},
   "source": [
    "You can then evaluate `s_gauss` at any point $t\\in[0,T]$ like so :"
   ]
  },
  {
   "cell_type": "code",
   "execution_count": 7,
   "metadata": {},
   "outputs": [
    {
     "data": {
      "text/plain": [
       "0.7903192539229389"
      ]
     },
     "execution_count": 7,
     "metadata": {},
     "output_type": "execute_result"
    }
   ],
   "source": [
    "s_gauss.eval(5)"
   ]
  },
  {
   "cell_type": "markdown",
   "metadata": {},
   "source": [
    "## Visualizing the process on a grid\n",
    "\n",
    "This section describes how to use the library to visualize the process on the interval `[0, T]` sampled on a regular grid with step size `h`."
   ]
  },
  {
   "cell_type": "code",
   "execution_count": 16,
   "metadata": {},
   "outputs": [],
   "source": [
    "T = 1\n",
    "h = 0.01"
   ]
  },
  {
   "cell_type": "markdown",
   "metadata": {},
   "source": [
    "Since there should be at least one impulse per bin, set $\\lambda = n$ as follows :"
   ]
  },
  {
   "cell_type": "code",
   "execution_count": 17,
   "metadata": {},
   "outputs": [],
   "source": [
    "s_gauss.set_lambda(2 * 1/h)"
   ]
  },
  {
   "cell_type": "markdown",
   "metadata": {},
   "source": [
    "Then sample the process on `[0, T]` and obtain its grid values like so :"
   ]
  },
  {
   "cell_type": "code",
   "execution_count": 20,
   "metadata": {},
   "outputs": [
    {
     "data": {
      "image/png": "[encoded data removed]",
      "text/plain": [
       "<Figure size 432x288 with 1 Axes>"
      ]
     },
     "metadata": {
      "needs_background": "light"
     },
     "output_type": "display_data"
    }
   ],
   "source": [
    "s_gauss.sample(T)\n",
    "grid_samples = s_gauss.get_grid_samples(T, h)"
   ]
  }
 ],
 "metadata": {
  "kernelspec": {
   "display_name": "Python 3",
   "language": "python",
   "name": "python3"
  },
  "language_info": {
   "codemirror_mode": {
    "name": "ipython",
    "version": 3
   },
   "file_extension": ".py",
   "mimetype": "text/x-python",
   "name": "python",
   "nbconvert_exporter": "python",
   "pygments_lexer": "ipython3",
   "version": "3.7.3"
  }
 },
 "nbformat": 4,
 "nbformat_minor": 2
}
